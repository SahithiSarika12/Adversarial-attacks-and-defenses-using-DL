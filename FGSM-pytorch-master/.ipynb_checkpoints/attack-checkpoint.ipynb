{
 "cells": [
  {
   "cell_type": "code",
   "execution_count": null,
   "metadata": {
    "id": "BtO40z0PB85H"
   },
   "outputs": [],
   "source": []
  },
  {
   "cell_type": "code",
   "execution_count": 1,
   "metadata": {
    "colab": {
     "base_uri": "https://localhost:8080/"
    },
    "executionInfo": {
     "elapsed": 20462,
     "status": "ok",
     "timestamp": 1650950711650,
     "user": {
      "displayName": "sahithi sarika",
      "userId": "03398594378849658416"
     },
     "user_tz": -330
    },
    "id": "u8U_kcTMCBVN",
    "outputId": "846202b5-1b2e-4e94-f7ac-e9e3cad2c1fb"
   },
   "outputs": [
    {
     "name": "stdout",
     "output_type": "stream",
     "text": [
      "Drive already mounted at /content/drive; to attempt to forcibly remount, call drive.mount(\"/content/drive\", force_remount=True).\n"
     ]
    }
   ],
   "source": [
    "from google.colab import drive\n",
    "drive.mount('/content/drive')"
   ]
  },
  {
   "cell_type": "code",
   "execution_count": 1,
   "metadata": {
    "executionInfo": {
     "elapsed": 2275,
     "status": "ok",
     "timestamp": 1650950721207,
     "user": {
      "displayName": "sahithi sarika",
      "userId": "03398594378849658416"
     },
     "user_tz": -330
    },
    "id": "7gh3_q93CCek"
   },
   "outputs": [],
   "source": [
    "import numpy as np\n",
    "import json\n",
    "import torch\n",
    "import torch.nn as nn\n",
    "import torch.optim as optim\n",
    "import torch.utils.data as Data\n",
    "\n",
    "import torchvision.utils\n",
    "from torchvision import models\n",
    "import torchvision.datasets as dsets\n",
    "import torchvision.transforms as transforms"
   ]
  },
  {
   "cell_type": "code",
   "execution_count": 2,
   "metadata": {
    "executionInfo": {
     "elapsed": 4,
     "status": "ok",
     "timestamp": 1650950721208,
     "user": {
      "displayName": "sahithi sarika",
      "userId": "03398594378849658416"
     },
     "user_tz": -330
    },
    "id": "f0rawFsKCoS-"
   },
   "outputs": [],
   "source": [
    "import matplotlib.pyplot as plt\n",
    "%matplotlib inline"
   ]
  },
  {
   "cell_type": "code",
   "execution_count": 3,
   "metadata": {
    "executionInfo": {
     "elapsed": 4,
     "status": "ok",
     "timestamp": 1650950721208,
     "user": {
      "displayName": "sahithi sarika",
      "userId": "03398594378849658416"
     },
     "user_tz": -330
    },
    "id": "HqORXJRdCuhc"
   },
   "outputs": [],
   "source": [
    "eps = 0.1\n",
    "use_cuda = True"
   ]
  },
  {
   "cell_type": "code",
   "execution_count": 6,
   "metadata": {
    "executionInfo": {
     "elapsed": 1216,
     "status": "ok",
     "timestamp": 1650950722421,
     "user": {
      "displayName": "sahithi sarika",
      "userId": "03398594378849658416"
     },
     "user_tz": -330
    },
    "id": "04dPaxSwCu79"
   },
   "outputs": [
    {
     "ename": "SyntaxError",
     "evalue": "(unicode error) 'unicodeescape' codec can't decode bytes in position 2-3: truncated \\UXXXXXXXX escape (<ipython-input-6-95976b1f405e>, line 2)",
     "output_type": "error",
     "traceback": [
      "\u001b[1;36m  File \u001b[1;32m\"<ipython-input-6-95976b1f405e>\"\u001b[1;36m, line \u001b[1;32m2\u001b[0m\n\u001b[1;33m    class_idx = json.load(open(\"C:\\Users\\Sahithi Sarika\\OneDrive\\Desktop\\FGSM\\FGSM-pytorch-master-20220426T185532Z-001\\FGSM-pytorch-master\\data\\imagenet\\img.json\"))\u001b[0m\n\u001b[1;37m                               ^\u001b[0m\n\u001b[1;31mSyntaxError\u001b[0m\u001b[1;31m:\u001b[0m (unicode error) 'unicodeescape' codec can't decode bytes in position 2-3: truncated \\UXXXXXXXX escape\n"
     ]
    }
   ],
   "source": [
    "# https://s3.amazonaws.com/deep-learning-models/image-models/imagenet_class_index.json\n",
    "class_idx = json.load(open(\"C:\\Users\\Sahithi Sarika\\OneDrive\\Desktop\\FGSM\\FGSM-pytorch-master-20220426T185532Z-001\\FGSM-pytorch-master\\data\\imagenet\\imagenet_class_index.json\"))\n",
    "idx2label = [class_idx[str(k)][1] for k in range(len(class_idx))]"
   ]
  },
  {
   "cell_type": "code",
   "execution_count": 6,
   "metadata": {
    "executionInfo": {
     "elapsed": 2,
     "status": "ok",
     "timestamp": 1650950723606,
     "user": {
      "displayName": "sahithi sarika",
      "userId": "03398594378849658416"
     },
     "user_tz": -330
    },
    "id": "a9QxeRH2C1eT"
   },
   "outputs": [],
   "source": [
    "transform = transforms.Compose([\n",
    "    transforms.Resize((299, 299)),\n",
    "    transforms.ToTensor(), # ToTensor : [0, 255] -> [0, 1]\n",
    "])"
   ]
  },
  {
   "cell_type": "code",
   "execution_count": 7,
   "metadata": {
    "executionInfo": {
     "elapsed": 2,
     "status": "ok",
     "timestamp": 1650950724067,
     "user": {
      "displayName": "sahithi sarika",
      "userId": "03398594378849658416"
     },
     "user_tz": -330
    },
    "id": "xDh-d6YUC3dE"
   },
   "outputs": [],
   "source": [
    "def image_folder_custom_label(root, transform, custom_label) :\n",
    "    \n",
    "    # custom_label\n",
    "    # type : List\n",
    "    # index -> label\n",
    "    # ex) ['tench', 'goldfish', 'great_white_shark', 'tiger_shark']\n",
    "    \n",
    "    old_data = dsets.ImageFolder(root = root, transform = transform)\n",
    "    old_classes = old_data.classes\n",
    "    \n",
    "    label2idx = {}\n",
    "    \n",
    "    for i, item in enumerate(idx2label) :\n",
    "        label2idx[item] = i\n",
    "    \n",
    "    new_data = dsets.ImageFolder(root = root, transform = transform, \n",
    "                                 target_transform = lambda x : custom_label.index(old_classes[x]))\n",
    "    new_data.classes = idx2label\n",
    "    new_data.class_to_idx = label2idx\n",
    "\n",
    "    return new_data"
   ]
  },
  {
   "cell_type": "code",
   "execution_count": 8,
   "metadata": {
    "executionInfo": {
     "elapsed": 2,
     "status": "ok",
     "timestamp": 1650950725045,
     "user": {
      "displayName": "sahithi sarika",
      "userId": "03398594378849658416"
     },
     "user_tz": -330
    },
    "id": "T0H65fJrC8wN"
   },
   "outputs": [],
   "source": [
    "normal_data = image_folder_custom_label(root = '/content/drive/MyDrive/Colab Notebooks/FGSM-pytorch-master/data/imagenet', transform = transform, custom_label = idx2label)\n",
    "normal_loader = Data.DataLoader(normal_data, batch_size=1, shuffle=False)"
   ]
  },
  {
   "cell_type": "code",
   "execution_count": 9,
   "metadata": {
    "executionInfo": {
     "elapsed": 6,
     "status": "ok",
     "timestamp": 1650950725762,
     "user": {
      "displayName": "sahithi sarika",
      "userId": "03398594378849658416"
     },
     "user_tz": -330
    },
    "id": "_J5qbET7EH7C"
   },
   "outputs": [],
   "source": [
    "def imshow(img, title):\n",
    "    npimg = img.numpy()\n",
    "    fig = plt.figure(figsize = (5, 15))\n",
    "    plt.imshow(np.transpose(npimg,(1,2,0)))\n",
    "    plt.title(title)\n",
    "    plt.show()"
   ]
  },
  {
   "cell_type": "code",
   "execution_count": 10,
   "metadata": {
    "colab": {
     "base_uri": "https://localhost:8080/",
     "height": 360
    },
    "executionInfo": {
     "elapsed": 1210,
     "status": "ok",
     "timestamp": 1650950728061,
     "user": {
      "displayName": "sahithi sarika",
      "userId": "03398594378849658416"
     },
     "user_tz": -330
    },
    "id": "DbGh1LmWEL4l",
    "outputId": "8d3ea560-cc31-4744-cc54-9032b9cfceb8"
   },
   "outputs": [
    {
     "name": "stdout",
     "output_type": "stream",
     "text": [
      "True Image & True Label\n"
     ]
    },
    {
     "data": {
      "image/png": "[encoded data removed]",
      "text/plain": [
       "<Figure size 360x1080 with 1 Axes>"
      ]
     },
     "metadata": {
      "needs_background": "light"
     },
     "output_type": "display_data"
    }
   ],
   "source": [
    "normal_iter = iter(normal_loader)\n",
    "images, labels = normal_iter.next()\n",
    "\n",
    "print(\"True Image & True Label\")\n",
    "imshow(torchvision.utils.make_grid(images, normalize=True), [normal_data.classes[i] for i in labels])"
   ]
  },
  {
   "cell_type": "markdown",
   "metadata": {
    "id": "MTjSgDNAEV94"
   },
   "source": [
    "4. Download the Inception v3"
   ]
  },
  {
   "cell_type": "code",
   "execution_count": 11,
   "metadata": {
    "executionInfo": {
     "elapsed": 3,
     "status": "ok",
     "timestamp": 1650950728566,
     "user": {
      "displayName": "sahithi sarika",
      "userId": "03398594378849658416"
     },
     "user_tz": -330
    },
    "id": "0rEryW7VEXNw"
   },
   "outputs": [],
   "source": [
    "device = torch.device(\"cuda\" if use_cuda else \"cpu\")"
   ]
  },
  {
   "cell_type": "code",
   "execution_count": 12,
   "metadata": {
    "executionInfo": {
     "elapsed": 2,
     "status": "ok",
     "timestamp": 1650950729105,
     "user": {
      "displayName": "sahithi sarika",
      "userId": "03398594378849658416"
     },
     "user_tz": -330
    },
    "id": "20YooxTzHR5z"
   },
   "outputs": [],
   "source": [
    "torch._C._cuda_init()"
   ]
  },
  {
   "cell_type": "code",
   "execution_count": 13,
   "metadata": {
    "colab": {
     "base_uri": "https://localhost:8080/",
     "height": 86,
     "referenced_widgets": [
      "69e04d09d56748a7bcd99cf8ee3e7711",
      "c557b77d9c324673a7c8dfccda63c6d9",
      "e0c55c737a79421680716b4ad92c35aa",
      "279c369698094c0ebd356a7897cb4ec6",
      "fd5d4529c12848b9933d825acf4be1b5",
      "5c5afe99570640ff9959689802136c6c",
      "b78850cb9c704b939d40c86cb612ff65",
      "febeafaa493b444386eedbbba839ae65",
      "c34e93f60a3b450eaecdcaddb178a066",
      "ce514157956540b8887056d4505432d1",
      "c34d9891ad1b4245b169c6fd75960282"
     ]
    },
    "executionInfo": {
     "elapsed": 10678,
     "status": "ok",
     "timestamp": 1650950740130,
     "user": {
      "displayName": "sahithi sarika",
      "userId": "03398594378849658416"
     },
     "user_tz": -330
    },
    "id": "UxhoDbyvEdAo",
    "outputId": "d22ec668-ec78-4ff2-c9bc-8119adde02f6"
   },
   "outputs": [
    {
     "name": "stderr",
     "output_type": "stream",
     "text": [
      "Downloading: \"https://download.pytorch.org/models/inception_v3_google-0cc3c7bd.pth\" to /root/.cache/torch/hub/checkpoints/inception_v3_google-0cc3c7bd.pth\n"
     ]
    },
    {
     "data": {
      "application/vnd.jupyter.widget-view+json": {
       "model_id": "69e04d09d56748a7bcd99cf8ee3e7711",
       "version_major": 2,
       "version_minor": 0
      },
      "text/plain": [
       "  0%|          | 0.00/104M [00:00<?, ?B/s]"
      ]
     },
     "metadata": {},
     "output_type": "display_data"
    }
   ],
   "source": [
    "model = models.inception_v3(pretrained=True).to(device)"
   ]
  },
  {
   "cell_type": "code",
   "execution_count": 14,
   "metadata": {
    "colab": {
     "base_uri": "https://localhost:8080/",
     "height": 1000,
     "output_embedded_package_id": "1pt2xEp5R7vjCUflAeiJ797107ZNK3awr"
    },
    "executionInfo": {
     "elapsed": 294301,
     "status": "ok",
     "timestamp": 1650951034417,
     "user": {
      "displayName": "sahithi sarika",
      "userId": "03398594378849658416"
     },
     "user_tz": -330
    },
    "id": "oa4VJsM_Edc7",
    "outputId": "734629a2-d4a3-4c23-9355-187ea92fd9a7"
   },
   "outputs": [
    {
     "data": {
      "text/plain": [
       "Output hidden; open in https://colab.research.google.com to view."
      ]
     },
     "metadata": {},
     "output_type": "display_data"
    }
   ],
   "source": [
    "print(\"True Image & Predicted Label\")\n",
    "\n",
    "model.eval()\n",
    "\n",
    "correct = 0\n",
    "total = 0\n",
    "\n",
    "for images, labels in normal_loader:\n",
    "    \n",
    "    images = images.to(device)\n",
    "    labels = labels.to(device)\n",
    "    outputs = model(images)\n",
    "    \n",
    "    _, pre = torch.max(outputs.data, 1)\n",
    "    \n",
    "    total += 1\n",
    "    correct += (pre == labels).sum()\n",
    "    \n",
    "    imshow(torchvision.utils.make_grid(images.cpu().data, normalize=True), [normal_data.classes[i] for i in pre])\n",
    "        \n",
    "#print('Accuracy of test text: %f %%' % (100 * float(correct) / total))\n"
   ]
  },
  {
   "cell_type": "markdown",
   "metadata": {
    "id": "V7r5eVntFADb"
   },
   "source": [
    "5. Adversarial Attack"
   ]
  },
  {
   "cell_type": "code",
   "execution_count": 15,
   "metadata": {
    "executionInfo": {
     "elapsed": 14,
     "status": "ok",
     "timestamp": 1650951034418,
     "user": {
      "displayName": "sahithi sarika",
      "userId": "03398594378849658416"
     },
     "user_tz": -330
    },
    "id": "8DfFGtZlFAmR"
   },
   "outputs": [],
   "source": [
    "def fgsm_attack(model, loss, images, labels, eps) :\n",
    "    \n",
    "    images = images.to(device)\n",
    "    labels = labels.to(device)\n",
    "    images.requires_grad = True\n",
    "            \n",
    "    outputs = model(images)\n",
    "    \n",
    "    model.zero_grad()\n",
    "    cost = loss(outputs, labels).to(device)\n",
    "    cost.backward()\n",
    "    \n",
    "    attack_images = images + eps*images.grad.sign()\n",
    "    attack_images = torch.clamp(attack_images, 0, 1)\n",
    "    \n",
    "    return attack_images"
   ]
  },
  {
   "cell_type": "code",
   "execution_count": 16,
   "metadata": {
    "executionInfo": {
     "elapsed": 5,
     "status": "ok",
     "timestamp": 1650951034418,
     "user": {
      "displayName": "sahithi sarika",
      "userId": "03398594378849658416"
     },
     "user_tz": -330
    },
    "id": "rlaG7Qx2FEbo"
   },
   "outputs": [],
   "source": [
    "loss = nn.CrossEntropyLoss()"
   ]
  },
  {
   "cell_type": "code",
   "execution_count": 17,
   "metadata": {
    "colab": {
     "base_uri": "https://localhost:8080/",
     "height": 1000,
     "output_embedded_package_id": "1iKu3rntWaSoqyXA5WDD_l69VXjzS8vRs"
    },
    "executionInfo": {
     "elapsed": 313944,
     "status": "ok",
     "timestamp": 1650951372589,
     "user": {
      "displayName": "sahithi sarika",
      "userId": "03398594378849658416"
     },
     "user_tz": -330
    },
    "id": "1ogNdqJKFNTW",
    "outputId": "c079f86d-2937-459d-e691-0aaa5fc8ca18"
   },
   "outputs": [
    {
     "data": {
      "text/plain": [
       "Output hidden; open in https://colab.research.google.com to view."
      ]
     },
     "metadata": {},
     "output_type": "display_data"
    }
   ],
   "source": [
    "print(\"Attack Image & Predicted Label\")\n",
    "\n",
    "model.eval()\n",
    "\n",
    "correct = 0\n",
    "total = 0\n",
    "\n",
    "for images, labels in normal_loader:\n",
    "    \n",
    "    images = fgsm_attack(model, loss, images, labels, eps).to(device)\n",
    "    labels = labels.to(device)\n",
    "    outputs = model(images)\n",
    "    \n",
    "    _, pre = torch.max(outputs.data, 1)\n",
    "    \n",
    "    total += 1\n",
    "    correct += (pre == labels).sum()\n",
    "    \n",
    "    imshow(torchvision.utils.make_grid(images.cpu().data, normalize=True), [normal_data.classes[i] for i in pre])\n",
    "    \n",
    "#print('Accuracy of test text: %f %%' % (100 * float(correct) / total))"
   ]
  },
  {
   "cell_type": "code",
   "execution_count": null,
   "metadata": {
    "id": "eM-pAjnkFTqN"
   },
   "outputs": [],
   "source": [
    "from PIL import Image\n",
    "import glob\n",
    "import os"
   ]
  },
  {
   "cell_type": "code",
   "execution_count": null,
   "metadata": {
    "id": "i-NjDyXXLf7a"
   },
   "outputs": [],
   "source": [
    "for (i,new) in enumerate(attack_images)):\n",
    "    new.save('{}{}{}'.format('/content/drive/MyDrive/Colab Notebooks/FGSM-pytorch-master/data/attacked_images/','.jpg'))"
   ]
  }
 ],
 "metadata": {
  "accelerator": "GPU",
  "colab": {
   "authorship_tag": "ABX9TyMciP+Kri14zTlvs2057AZ2",
   "collapsed_sections": [],
   "mount_file_id": "1noPd1xOFt-d985i8-095G9mY29OoYRPP",
   "name": "attack.ipynb",
   "provenance": []
  },
  "kernelspec": {
   "display_name": "Python 3",
   "language": "python",
   "name": "python3"
  },
  "language_info": {
   "codemirror_mode": {
    "name": "ipython",
    "version": 3
   },
   "file_extension": ".py",
   "mimetype": "text/x-python",
   "name": "python",
   "nbconvert_exporter": "python",
   "pygments_lexer": "ipython3",
   "version": "3.8.5"
  },
  "widgets": {
   "application/vnd.jupyter.widget-state+json": {
    "279c369698094c0ebd356a7897cb4ec6": {
     "model_module": "@jupyter-widgets/controls",
     "model_module_version": "1.5.0",
     "model_name": "HTMLModel",
     "state": {
      "_dom_classes": [],
      "_model_module": "@jupyter-widgets/controls",
      "_model_module_version": "1.5.0",
      "_model_name": "HTMLModel",
      "_view_count": null,
      "_view_module": "@jupyter-widgets/controls",
      "_view_module_version": "1.5.0",
      "_view_name": "HTMLView",
      "description": "",
      "description_tooltip": null,
      "layout": "IPY_MODEL_ce514157956540b8887056d4505432d1",
      "placeholder": "​",
      "style": "IPY_MODEL_c34d9891ad1b4245b169c6fd75960282",
      "value": " 104M/104M [00:00&lt;00:00, 141MB/s]"
     }
    },
    "5c5afe99570640ff9959689802136c6c": {
     "model_module": "@jupyter-widgets/base",
     "model_module_version": "1.2.0",
     "model_name": "LayoutModel",
     "state": {
      "_model_module": "@jupyter-widgets/base",
      "_model_module_version": "1.2.0",
      "_model_name": "LayoutModel",
      "_view_count": null,
      "_view_module": "@jupyter-widgets/base",
      "_view_module_version": "1.2.0",
      "_view_name": "LayoutView",
      "align_content": null,
      "align_items": null,
      "align_self": null,
      "border": null,
      "bottom": null,
      "display": null,
      "flex": null,
      "flex_flow": null,
      "grid_area": null,
      "grid_auto_columns": null,
      "grid_auto_flow": null,
      "grid_auto_rows": null,
      "grid_column": null,
      "grid_gap": null,
      "grid_row": null,
      "grid_template_areas": null,
      "grid_template_columns": null,
      "grid_template_rows": null,
      "height": null,
      "justify_content": null,
      "justify_items": null,
      "left": null,
      "margin": null,
      "max_height": null,
      "max_width": null,
      "min_height": null,
      "min_width": null,
      "object_fit": null,
      "object_position": null,
      "order": null,
      "overflow": null,
      "overflow_x": null,
      "overflow_y": null,
      "padding": null,
      "right": null,
      "top": null,
      "visibility": null,
      "width": null
     }
    },
    "69e04d09d56748a7bcd99cf8ee3e7711": {
     "model_module": "@jupyter-widgets/controls",
     "model_module_version": "1.5.0",
     "model_name": "HBoxModel",
     "state": {
      "_dom_classes": [],
      "_model_module": "@jupyter-widgets/controls",
      "_model_module_version": "1.5.0",
      "_model_name": "HBoxModel",
      "_view_count": null,
      "_view_module": "@jupyter-widgets/controls",
      "_view_module_version": "1.5.0",
      "_view_name": "HBoxView",
      "box_style": "",
      "children": [
       "IPY_MODEL_c557b77d9c324673a7c8dfccda63c6d9",
       "IPY_MODEL_e0c55c737a79421680716b4ad92c35aa",
       "IPY_MODEL_279c369698094c0ebd356a7897cb4ec6"
      ],
      "layout": "IPY_MODEL_fd5d4529c12848b9933d825acf4be1b5"
     }
    },
    "b78850cb9c704b939d40c86cb612ff65": {
     "model_module": "@jupyter-widgets/controls",
     "model_module_version": "1.5.0",
     "model_name": "DescriptionStyleModel",
     "state": {
      "_model_module": "@jupyter-widgets/controls",
      "_model_module_version": "1.5.0",
      "_model_name": "DescriptionStyleModel",
      "_view_count": null,
      "_view_module": "@jupyter-widgets/base",
      "_view_module_version": "1.2.0",
      "_view_name": "StyleView",
      "description_width": ""
     }
    },
    "c34d9891ad1b4245b169c6fd75960282": {
     "model_module": "@jupyter-widgets/controls",
     "model_module_version": "1.5.0",
     "model_name": "DescriptionStyleModel",
     "state": {
      "_model_module": "@jupyter-widgets/controls",
      "_model_module_version": "1.5.0",
      "_model_name": "DescriptionStyleModel",
      "_view_count": null,
      "_view_module": "@jupyter-widgets/base",
      "_view_module_version": "1.2.0",
      "_view_name": "StyleView",
      "description_width": ""
     }
    },
    "c34e93f60a3b450eaecdcaddb178a066": {
     "model_module": "@jupyter-widgets/controls",
     "model_module_version": "1.5.0",
     "model_name": "ProgressStyleModel",
     "state": {
      "_model_module": "@jupyter-widgets/controls",
      "_model_module_version": "1.5.0",
      "_model_name": "ProgressStyleModel",
      "_view_count": null,
      "_view_module": "@jupyter-widgets/base",
      "_view_module_version": "1.2.0",
      "_view_name": "StyleView",
      "bar_color": null,
      "description_width": ""
     }
    },
    "c557b77d9c324673a7c8dfccda63c6d9": {
     "model_module": "@jupyter-widgets/controls",
     "model_module_version": "1.5.0",
     "model_name": "HTMLModel",
     "state": {
      "_dom_classes": [],
      "_model_module": "@jupyter-widgets/controls",
      "_model_module_version": "1.5.0",
      "_model_name": "HTMLModel",
      "_view_count": null,
      "_view_module": "@jupyter-widgets/controls",
      "_view_module_version": "1.5.0",
      "_view_name": "HTMLView",
      "description": "",
      "description_tooltip": null,
      "layout": "IPY_MODEL_5c5afe99570640ff9959689802136c6c",
      "placeholder": "​",
      "style": "IPY_MODEL_b78850cb9c704b939d40c86cb612ff65",
      "value": "100%"
     }
    },
    "ce514157956540b8887056d4505432d1": {
     "model_module": "@jupyter-widgets/base",
     "model_module_version": "1.2.0",
     "model_name": "LayoutModel",
     "state": {
      "_model_module": "@jupyter-widgets/base",
      "_model_module_version": "1.2.0",
      "_model_name": "LayoutModel",
      "_view_count": null,
      "_view_module": "@jupyter-widgets/base",
      "_view_module_version": "1.2.0",
      "_view_name": "LayoutView",
      "align_content": null,
      "align_items": null,
      "align_self": null,
      "border": null,
      "bottom": null,
      "display": null,
      "flex": null,
      "flex_flow": null,
      "grid_area": null,
      "grid_auto_columns": null,
      "grid_auto_flow": null,
      "grid_auto_rows": null,
      "grid_column": null,
      "grid_gap": null,
      "grid_row": null,
      "grid_template_areas": null,
      "grid_template_columns": null,
      "grid_template_rows": null,
      "height": null,
      "justify_content": null,
      "justify_items": null,
      "left": null,
      "margin": null,
      "max_height": null,
      "max_width": null,
      "min_height": null,
      "min_width": null,
      "object_fit": null,
      "object_position": null,
      "order": null,
      "overflow": null,
      "overflow_x": null,
      "overflow_y": null,
      "padding": null,
      "right": null,
      "top": null,
      "visibility": null,
      "width": null
     }
    },
    "e0c55c737a79421680716b4ad92c35aa": {
     "model_module": "@jupyter-widgets/controls",
     "model_module_version": "1.5.0",
     "model_name": "FloatProgressModel",
     "state": {
      "_dom_classes": [],
      "_model_module": "@jupyter-widgets/controls",
      "_model_module_version": "1.5.0",
      "_model_name": "FloatProgressModel",
      "_view_count": null,
      "_view_module": "@jupyter-widgets/controls",
      "_view_module_version": "1.5.0",
      "_view_name": "ProgressView",
      "bar_style": "success",
      "description": "",
      "description_tooltip": null,
      "layout": "IPY_MODEL_febeafaa493b444386eedbbba839ae65",
      "max": 108949747,
      "min": 0,
      "orientation": "horizontal",
      "style": "IPY_MODEL_c34e93f60a3b450eaecdcaddb178a066",
      "value": 108949747
     }
    },
    "fd5d4529c12848b9933d825acf4be1b5": {
     "model_module": "@jupyter-widgets/base",
     "model_module_version": "1.2.0",
     "model_name": "LayoutModel",
     "state": {
      "_model_module": "@jupyter-widgets/base",
      "_model_module_version": "1.2.0",
      "_model_name": "LayoutModel",
      "_view_count": null,
      "_view_module": "@jupyter-widgets/base",
      "_view_module_version": "1.2.0",
      "_view_name": "LayoutView",
      "align_content": null,
      "align_items": null,
      "align_self": null,
      "border": null,
      "bottom": null,
      "display": null,
      "flex": null,
      "flex_flow": null,
      "grid_area": null,
      "grid_auto_columns": null,
      "grid_auto_flow": null,
      "grid_auto_rows": null,
      "grid_column": null,
      "grid_gap": null,
      "grid_row": null,
      "grid_template_areas": null,
      "grid_template_columns": null,
      "grid_template_rows": null,
      "height": null,
      "justify_content": null,
      "justify_items": null,
      "left": null,
      "margin": null,
      "max_height": null,
      "max_width": null,
      "min_height": null,
      "min_width": null,
      "object_fit": null,
      "object_position": null,
      "order": null,
      "overflow": null,
      "overflow_x": null,
      "overflow_y": null,
      "padding": null,
      "right": null,
      "top": null,
      "visibility": null,
      "width": null
     }
    },
    "febeafaa493b444386eedbbba839ae65": {
     "model_module": "@jupyter-widgets/base",
     "model_module_version": "1.2.0",
     "model_name": "LayoutModel",
     "state": {
      "_model_module": "@jupyter-widgets/base",
      "_model_module_version": "1.2.0",
      "_model_name": "LayoutModel",
      "_view_count": null,
      "_view_module": "@jupyter-widgets/base",
      "_view_module_version": "1.2.0",
      "_view_name": "LayoutView",
      "align_content": null,
      "align_items": null,
      "align_self": null,
      "border": null,
      "bottom": null,
      "display": null,
      "flex": null,
      "flex_flow": null,
      "grid_area": null,
      "grid_auto_columns": null,
      "grid_auto_flow": null,
      "grid_auto_rows": null,
      "grid_column": null,
      "grid_gap": null,
      "grid_row": null,
      "grid_template_areas": null,
      "grid_template_columns": null,
      "grid_template_rows": null,
      "height": null,
      "justify_content": null,
      "justify_items": null,
      "left": null,
      "margin": null,
      "max_height": null,
      "max_width": null,
      "min_height": null,
      "min_width": null,
      "object_fit": null,
      "object_position": null,
      "order": null,
      "overflow": null,
      "overflow_x": null,
      "overflow_y": null,
      "padding": null,
      "right": null,
      "top": null,
      "visibility": null,
      "width": null
     }
    }
   }
  }
 },
 "nbformat": 4,
 "nbformat_minor": 1
}
